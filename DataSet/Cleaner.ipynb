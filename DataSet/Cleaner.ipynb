{
 "cells": [
  {
   "cell_type": "code",
   "execution_count": 1,
   "metadata": {},
   "outputs": [],
   "source": [
    "import pandas as pd\n",
    "import csv\n",
    "import re"
   ]
  },
  {
   "cell_type": "code",
   "execution_count": 2,
   "metadata": {},
   "outputs": [],
   "source": [
    "def _removeNonAscii(s):\n",
    "    x = \"\".join(i for i in s if (ord(i)>=32 and ord(i)<128))\n",
    "    return str(x)"
   ]
  },
  {
   "cell_type": "code",
   "execution_count": 3,
   "metadata": {},
   "outputs": [],
   "source": [
    "def remnum(s):\n",
    "    i = 0\n",
    "    flag = False\n",
    "    while i<len(s) and s[i].isdigit():\n",
    "        if s[i]=='.' or s[i]==',':\n",
    "            flag = True\n",
    "            i+=1\n",
    "            break\n",
    "        i+=1\n",
    "    ans = ''\n",
    "    if not flag:\n",
    "        i = 0\n",
    "    while i<len(s):\n",
    "        ans += s[i]\n",
    "        i+=1\n",
    "    return ans"
   ]
  },
  {
   "cell_type": "code",
   "execution_count": 4,
   "metadata": {},
   "outputs": [],
   "source": [
    "def cleandata(s):\n",
    "    text = re.sub(r\"http\\S+\", \"\", s)\n",
    "    text = re.sub(r\"bit.ly\\S+\", \"\", text)\n",
    "    text = re.sub(r\"^\\d+[\\.,\\)]\", \"\", text)\n",
    "    text = re.sub(r\"\\w*X\\w*#\\d*\", \"\", text)\n",
    "    text = re.sub(r\"q*\\W\\w*X\\w*\\[\\w*\\]\",\"\",text)\n",
    "    text = re.sub(r\"r[A-Z]\\d*\\w*X\\W*\\w*\",\"\",text)\n",
    "    return text"
   ]
  },
  {
   "cell_type": "code",
   "execution_count": 5,
   "metadata": {},
   "outputs": [],
   "source": [
    "f = open(\"source.txt\", \"rb\")\n",
    "text = f.read().decode(errors='replace')\n",
    "lines_of_data = text.splitlines()\n",
    "tmp = []\n",
    "for i in range(len(lines_of_data)):\n",
    "    s = _removeNonAscii(lines_of_data[i])\n",
    "    s = cleandata(s)\n",
    "    s=\"\\\"\"+s+\"\\\"\"\n",
    "    if len(s)<10:\n",
    "        continue\n",
    "    tmp.append(s)\n",
    "dat = {'post':tmp}\n",
    "data_df = pd.DataFrame(data=dat)\n",
    "data_df.to_csv('test.csv', index=False,  encoding='utf-8')"
   ]
  },
  {
   "cell_type": "code",
   "execution_count": null,
   "metadata": {},
   "outputs": [],
   "source": []
  }
 ],
 "metadata": {
  "kernelspec": {
   "display_name": "Python 3",
   "language": "python",
   "name": "python3"
  },
  "language_info": {
   "codemirror_mode": {
    "name": "ipython",
    "version": 3
   },
   "file_extension": ".py",
   "mimetype": "text/x-python",
   "name": "python",
   "nbconvert_exporter": "python",
   "pygments_lexer": "ipython3",
   "version": "3.8.2"
  }
 },
 "nbformat": 4,
 "nbformat_minor": 4
}
